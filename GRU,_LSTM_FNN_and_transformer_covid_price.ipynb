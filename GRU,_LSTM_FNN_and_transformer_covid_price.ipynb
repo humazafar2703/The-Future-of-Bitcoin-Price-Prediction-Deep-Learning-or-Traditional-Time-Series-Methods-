{
  "nbformat": 4,
  "nbformat_minor": 0,
  "metadata": {
    "colab": {
      "provenance": []
    },
    "kernelspec": {
      "name": "python3",
      "display_name": "Python 3"
    },
    "language_info": {
      "name": "python"
    }
  },
  "cells": [
    {
      "cell_type": "code",
      "source": [
        "import pandas as pd\n",
        "from sklearn.preprocessing import MinMaxScaler\n",
        "from sklearn.model_selection import train_test_split\n",
        "import numpy as np\n",
        "\n",
        "# Load the dataset\n",
        "btc_data = pd.read_csv(\"/content/daily_btc_1.csv\")\n",
        "\n",
        "# Display the first few rows of the dataset to understand its structure\n",
        "btc_data.head()\n",
        "\n",
        "# Remove commas and convert 'Close' column to numeric\n",
        "btc_data['Close'] = btc_data['Close'].str.replace(',', '').astype(float)\n",
        "\n",
        "# Extract 'Close' prices\n",
        "prices = btc_data['Close'].values.reshape(-1, 1)\n",
        "\n",
        "# Normalize the data\n",
        "scaler = MinMaxScaler()\n",
        "normalized_prices = scaler.fit_transform(prices)\n",
        "\n",
        "# Define a function to convert data into sequences\n",
        "def create_sequences(data, seq_length):\n",
        "    X, y = [], []\n",
        "\n",
        "    for i in range(len(data) - seq_length):\n",
        "        seq = data[i:i + seq_length]\n",
        "        X.append(seq[:-1])\n",
        "        y.append(seq[-1])\n",
        "\n",
        "    return np.array(X), np.array(y)\n",
        "\n",
        "# Create sequences with a length of 60 (approx. two months of daily data)\n",
        "SEQ_LENGTH = 60\n",
        "X, y = create_sequences(normalized_prices, SEQ_LENGTH)\n",
        "\n",
        "# Split the data into training and test sets (80% train, 20% test)\n",
        "X_train, X_test, y_train, y_test = train_test_split(X, y, test_size=0.2, random_state=42)\n",
        "\n",
        "X_train.shape, X_test.shape\n",
        "\n"
      ],
      "metadata": {
        "id": "xs6S48sh-SBg",
        "colab": {
          "base_uri": "https://localhost:8080/"
        },
        "outputId": "7c46203e-fba3-4042-a0f9-8044a648b056"
      },
      "execution_count": 5,
      "outputs": [
        {
          "output_type": "execute_result",
          "data": {
            "text/plain": [
              "((1564, 59, 1), (391, 59, 1))"
            ]
          },
          "metadata": {},
          "execution_count": 5
        }
      ]
    },
    {
      "cell_type": "code",
      "source": [
        "import tensorflow as tf\n",
        "from tensorflow.keras.models import Sequential\n",
        "from tensorflow.keras.layers import LSTM, Dense, Dropout\n",
        "\n",
        "# LSTM Model\n",
        "lstm_model = Sequential()\n",
        "\n",
        "lstm_model.add(LSTM(50, return_sequences=True, input_shape=(X_train.shape[1], 1)))\n",
        "lstm_model.add(Dropout(0.2))\n",
        "lstm_model.add(LSTM(50, return_sequences=True))\n",
        "lstm_model.add(Dropout(0.2))\n",
        "lstm_model.add(LSTM(50))\n",
        "lstm_model.add(Dropout(0.2))\n",
        "lstm_model.add(Dense(1))\n",
        "\n",
        "lstm_model.compile(optimizer='adam', loss='mean_squared_error')\n",
        "lstm_model.fit(X_train, y_train, epochs=10, batch_size=32, validation_data=(X_test, y_test))\n",
        "\n"
      ],
      "metadata": {
        "colab": {
          "base_uri": "https://localhost:8080/"
        },
        "id": "AeMzBxOB_Cdd",
        "outputId": "8eedea27-6bed-46e2-f6e6-d8e29add292a"
      },
      "execution_count": 6,
      "outputs": [
        {
          "output_type": "stream",
          "name": "stdout",
          "text": [
            "Epoch 1/10\n",
            "49/49 [==============================] - 12s 107ms/step - loss: 0.0520 - val_loss: 0.0436\n",
            "Epoch 2/10\n",
            "49/49 [==============================] - 7s 136ms/step - loss: 0.0422 - val_loss: 0.0377\n",
            "Epoch 3/10\n",
            "49/49 [==============================] - 4s 86ms/step - loss: 0.0422 - val_loss: 0.0375\n",
            "Epoch 4/10\n",
            "49/49 [==============================] - 4s 81ms/step - loss: 0.0422 - val_loss: 0.0371\n",
            "Epoch 5/10\n",
            "49/49 [==============================] - 5s 101ms/step - loss: 0.0414 - val_loss: 0.0404\n",
            "Epoch 6/10\n",
            "49/49 [==============================] - 4s 83ms/step - loss: 0.0431 - val_loss: 0.0385\n",
            "Epoch 7/10\n",
            "49/49 [==============================] - 4s 82ms/step - loss: 0.0409 - val_loss: 0.0369\n",
            "Epoch 8/10\n",
            "49/49 [==============================] - 5s 104ms/step - loss: 0.0398 - val_loss: 0.0359\n",
            "Epoch 9/10\n",
            "49/49 [==============================] - 5s 96ms/step - loss: 0.0391 - val_loss: 0.0347\n",
            "Epoch 10/10\n",
            "49/49 [==============================] - 4s 83ms/step - loss: 0.0385 - val_loss: 0.0332\n"
          ]
        },
        {
          "output_type": "execute_result",
          "data": {
            "text/plain": [
              "<keras.src.callbacks.History at 0x788c88399510>"
            ]
          },
          "metadata": {},
          "execution_count": 6
        }
      ]
    },
    {
      "cell_type": "code",
      "source": [
        "from tensorflow.keras.layers import GRU\n",
        "\n",
        "# GRU Model\n",
        "gru_model = Sequential()\n",
        "\n",
        "gru_model.add(GRU(50, return_sequences=True, input_shape=(X_train.shape[1], 1)))\n",
        "gru_model.add(Dropout(0.2))\n",
        "gru_model.add(GRU(50, return_sequences=True))\n",
        "gru_model.add(Dropout(0.2))\n",
        "gru_model.add(GRU(50))\n",
        "gru_model.add(Dropout(0.2))\n",
        "gru_model.add(Dense(1))\n",
        "\n",
        "gru_model.compile(optimizer='adam', loss='mean_squared_error')\n",
        "gru_model.fit(X_train, y_train, epochs=10, batch_size=32, validation_data=(X_test, y_test))\n"
      ],
      "metadata": {
        "id": "U5BM0HqSDNIw",
        "colab": {
          "base_uri": "https://localhost:8080/"
        },
        "outputId": "9effd2c9-5b9d-4a35-9150-0e95b5c0a9ac"
      },
      "execution_count": 7,
      "outputs": [
        {
          "output_type": "stream",
          "name": "stdout",
          "text": [
            "Epoch 1/10\n",
            "49/49 [==============================] - 12s 108ms/step - loss: 0.0537 - val_loss: 0.0406\n",
            "Epoch 2/10\n",
            "49/49 [==============================] - 5s 108ms/step - loss: 0.0433 - val_loss: 0.0425\n",
            "Epoch 3/10\n",
            "49/49 [==============================] - 5s 89ms/step - loss: 0.0407 - val_loss: 0.0328\n",
            "Epoch 4/10\n",
            "49/49 [==============================] - 4s 84ms/step - loss: 0.0342 - val_loss: 0.0290\n",
            "Epoch 5/10\n",
            "49/49 [==============================] - 6s 118ms/step - loss: 0.0311 - val_loss: 0.0256\n",
            "Epoch 6/10\n",
            "49/49 [==============================] - 7s 141ms/step - loss: 0.0236 - val_loss: 0.0214\n",
            "Epoch 7/10\n",
            "49/49 [==============================] - 7s 148ms/step - loss: 0.0201 - val_loss: 0.0190\n",
            "Epoch 8/10\n",
            "49/49 [==============================] - 4s 85ms/step - loss: 0.0192 - val_loss: 0.0167\n",
            "Epoch 9/10\n",
            "49/49 [==============================] - 6s 124ms/step - loss: 0.0183 - val_loss: 0.0156\n",
            "Epoch 10/10\n",
            "49/49 [==============================] - 4s 84ms/step - loss: 0.0166 - val_loss: 0.0161\n"
          ]
        },
        {
          "output_type": "execute_result",
          "data": {
            "text/plain": [
              "<keras.src.callbacks.History at 0x788c771be440>"
            ]
          },
          "metadata": {},
          "execution_count": 7
        }
      ]
    },
    {
      "cell_type": "code",
      "source": [
        "import tensorflow as tf\n",
        "from tensorflow.keras.layers import Input, Dense, Dropout, MultiHeadAttention, LayerNormalization\n",
        "from tensorflow.keras.models import Model\n",
        "\n",
        "# Define the input layer\n",
        "input_layer = Input(shape=(X_train.shape[1], 1))\n",
        "\n",
        "# Transformer block\n",
        "# For self-attention, query, key, and value are the same.\n",
        "query = input_layer\n",
        "key = input_layer\n",
        "value = input_layer\n",
        "\n",
        "attention_output = MultiHeadAttention(num_heads=4, key_dim=128)(query=query, key=key, value=value)\n",
        "attention_output = Dropout(0.2)(attention_output)\n",
        "attention_output = LayerNormalization()(attention_output + input_layer)\n",
        "\n",
        "# Flatten and feed to a dense layer\n",
        "flatten = Flatten()(attention_output)\n",
        "dense_1 = Dense(64, activation='relu')(flatten)\n",
        "dropout = Dropout(0.2)(dense_1)\n",
        "output = Dense(1)(dropout)\n",
        "\n",
        "# Compile the model\n",
        "transformer_model = Model(inputs=input_layer, outputs=output)\n",
        "transformer_model.compile(optimizer='adam', loss='mean_squared_error')\n",
        "transformer_model.summary()\n",
        "\n",
        "# Training the Model\n",
        "transformer_model.fit(X_train, y_train, epochs=10, batch_size=32, validation_data=(X_test, y_test))\n"
      ],
      "metadata": {
        "id": "_z8YS_CRIfvQ",
        "colab": {
          "base_uri": "https://localhost:8080/"
        },
        "outputId": "322ec777-a7b6-4163-bbad-1aa478e31caf"
      },
      "execution_count": 9,
      "outputs": [
        {
          "output_type": "stream",
          "name": "stdout",
          "text": [
            "Model: \"model_1\"\n",
            "__________________________________________________________________________________________________\n",
            " Layer (type)                Output Shape                 Param #   Connected to                  \n",
            "==================================================================================================\n",
            " input_2 (InputLayer)        [(None, 59, 1)]              0         []                            \n",
            "                                                                                                  \n",
            " multi_head_attention_1 (Mu  (None, 59, 1)                3585      ['input_2[0][0]',             \n",
            " ltiHeadAttention)                                                   'input_2[0][0]',             \n",
            "                                                                     'input_2[0][0]']             \n",
            "                                                                                                  \n",
            " dropout_8 (Dropout)         (None, 59, 1)                0         ['multi_head_attention_1[0][0]\n",
            "                                                                    ']                            \n",
            "                                                                                                  \n",
            " tf.__operators__.add_1 (TF  (None, 59, 1)                0         ['dropout_8[0][0]',           \n",
            " OpLambda)                                                           'input_2[0][0]']             \n",
            "                                                                                                  \n",
            " layer_normalization_1 (Lay  (None, 59, 1)                2         ['tf.__operators__.add_1[0][0]\n",
            " erNormalization)                                                   ']                            \n",
            "                                                                                                  \n",
            " flatten_1 (Flatten)         (None, 59)                   0         ['layer_normalization_1[0][0]'\n",
            "                                                                    ]                             \n",
            "                                                                                                  \n",
            " dense_5 (Dense)             (None, 64)                   3840      ['flatten_1[0][0]']           \n",
            "                                                                                                  \n",
            " dropout_9 (Dropout)         (None, 64)                   0         ['dense_5[0][0]']             \n",
            "                                                                                                  \n",
            " dense_6 (Dense)             (None, 1)                    65        ['dropout_9[0][0]']           \n",
            "                                                                                                  \n",
            "==================================================================================================\n",
            "Total params: 7492 (29.27 KB)\n",
            "Trainable params: 7492 (29.27 KB)\n",
            "Non-trainable params: 0 (0.00 Byte)\n",
            "__________________________________________________________________________________________________\n",
            "Epoch 1/10\n",
            "49/49 [==============================] - 6s 93ms/step - loss: 0.1248 - val_loss: 0.1177\n",
            "Epoch 2/10\n",
            "49/49 [==============================] - 3s 63ms/step - loss: 0.1040 - val_loss: 0.0989\n",
            "Epoch 3/10\n",
            "49/49 [==============================] - 3s 66ms/step - loss: 0.0891 - val_loss: 0.0853\n",
            "Epoch 4/10\n",
            "49/49 [==============================] - 6s 118ms/step - loss: 0.0787 - val_loss: 0.0760\n",
            "Epoch 5/10\n",
            "49/49 [==============================] - 5s 106ms/step - loss: 0.0718 - val_loss: 0.0697\n",
            "Epoch 6/10\n",
            "49/49 [==============================] - 4s 88ms/step - loss: 0.0675 - val_loss: 0.0657\n",
            "Epoch 7/10\n",
            "49/49 [==============================] - 5s 108ms/step - loss: 0.0649 - val_loss: 0.0633\n",
            "Epoch 8/10\n",
            "49/49 [==============================] - 3s 64ms/step - loss: 0.0634 - val_loss: 0.0619\n",
            "Epoch 9/10\n",
            "49/49 [==============================] - 3s 65ms/step - loss: 0.0626 - val_loss: 0.0611\n",
            "Epoch 10/10\n",
            "49/49 [==============================] - 4s 88ms/step - loss: 0.0622 - val_loss: 0.0605\n"
          ]
        },
        {
          "output_type": "execute_result",
          "data": {
            "text/plain": [
              "<keras.src.callbacks.History at 0x788c75f54490>"
            ]
          },
          "metadata": {},
          "execution_count": 9
        }
      ]
    },
    {
      "cell_type": "code",
      "source": [
        "#FNN MODEL\n",
        "import tensorflow as tf\n",
        "from tensorflow.keras.layers import Flatten, Dense, Dropout, Input\n",
        "from tensorflow.keras.models import Model\n",
        "\n",
        "# Define the input layer\n",
        "input_layer = Input(shape=(X_train.shape[1], 1))\n",
        "\n",
        "# Flatten the input data\n",
        "flattened_input = Flatten()(input_layer)\n",
        "\n",
        "# First dense layer\n",
        "dense_1 = Dense(128, activation='relu')(flattened_input)\n",
        "dense_1 = Dropout(0.2)(dense_1)\n",
        "\n",
        "# Second dense layer\n",
        "dense_2 = Dense(64, activation='relu')(dense_1)\n",
        "dense_2 = Dropout(0.2)(dense_2)\n",
        "\n",
        "# Output layer\n",
        "output = Dense(1)(dense_2)\n",
        "\n",
        "# Create the FNN Model\n",
        "fnn_model = Model(inputs=input_layer, outputs=output)\n",
        "fnn_model.compile(optimizer='adam', loss='mean_squared_error')\n",
        "fnn_model.summary()\n",
        "\n",
        "# Train the FNN Model\n",
        "fnn_history = fnn_model.fit(X_train, y_train, epochs=10, batch_size=32, validation_data=(X_test, y_test), verbose=1)\n"
      ],
      "metadata": {
        "id": "bfICeeb8N9Ck",
        "colab": {
          "base_uri": "https://localhost:8080/"
        },
        "outputId": "a0aa56bd-9457-4809-ae69-7b5cb589e45f"
      },
      "execution_count": 10,
      "outputs": [
        {
          "output_type": "stream",
          "name": "stdout",
          "text": [
            "Model: \"model_2\"\n",
            "_________________________________________________________________\n",
            " Layer (type)                Output Shape              Param #   \n",
            "=================================================================\n",
            " input_3 (InputLayer)        [(None, 59, 1)]           0         \n",
            "                                                                 \n",
            " flatten_2 (Flatten)         (None, 59)                0         \n",
            "                                                                 \n",
            " dense_7 (Dense)             (None, 128)               7680      \n",
            "                                                                 \n",
            " dropout_10 (Dropout)        (None, 128)               0         \n",
            "                                                                 \n",
            " dense_8 (Dense)             (None, 64)                8256      \n",
            "                                                                 \n",
            " dropout_11 (Dropout)        (None, 64)                0         \n",
            "                                                                 \n",
            " dense_9 (Dense)             (None, 1)                 65        \n",
            "                                                                 \n",
            "=================================================================\n",
            "Total params: 16001 (62.50 KB)\n",
            "Trainable params: 16001 (62.50 KB)\n",
            "Non-trainable params: 0 (0.00 Byte)\n",
            "_________________________________________________________________\n",
            "Epoch 1/10\n",
            "49/49 [==============================] - 1s 5ms/step - loss: 0.0435 - val_loss: 0.0136\n",
            "Epoch 2/10\n",
            "49/49 [==============================] - 0s 3ms/step - loss: 0.0189 - val_loss: 0.0116\n",
            "Epoch 3/10\n",
            "49/49 [==============================] - 0s 3ms/step - loss: 0.0146 - val_loss: 0.0091\n",
            "Epoch 4/10\n",
            "49/49 [==============================] - 0s 3ms/step - loss: 0.0129 - val_loss: 0.0087\n",
            "Epoch 5/10\n",
            "49/49 [==============================] - 0s 3ms/step - loss: 0.0112 - val_loss: 0.0077\n",
            "Epoch 6/10\n",
            "49/49 [==============================] - 0s 3ms/step - loss: 0.0096 - val_loss: 0.0097\n",
            "Epoch 7/10\n",
            "49/49 [==============================] - 0s 3ms/step - loss: 0.0090 - val_loss: 0.0067\n",
            "Epoch 8/10\n",
            "49/49 [==============================] - 0s 3ms/step - loss: 0.0083 - val_loss: 0.0072\n",
            "Epoch 9/10\n",
            "49/49 [==============================] - 0s 3ms/step - loss: 0.0090 - val_loss: 0.0061\n",
            "Epoch 10/10\n",
            "49/49 [==============================] - 0s 3ms/step - loss: 0.0080 - val_loss: 0.0050\n"
          ]
        }
      ]
    },
    {
      "cell_type": "code",
      "source": [
        "# Train LSTM model\n",
        "lstm_history = lstm_model.fit(X_train, y_train, epochs=10, batch_size=32, validation_data=(X_test, y_test))\n",
        "\n",
        "# Train GRU model\n",
        "gru_history = gru_model.fit(X_train, y_train, epochs=10, batch_size=32, validation_data=(X_test, y_test))\n",
        "\n",
        "# Train FNN model\n",
        "fnn_history = fnn_model.fit(X_train, y_train, epochs=10, batch_size=32, validation_data=(X_test, y_test))\n",
        "\n",
        "# Train Transformer model\n",
        "transformer_history = transformer_model.fit(X_train, y_train, epochs=10, batch_size=32, validation_data=(X_test, y_test))\n"
      ],
      "metadata": {
        "id": "p0XOCu8CdERf",
        "colab": {
          "base_uri": "https://localhost:8080/"
        },
        "outputId": "ef3f60c9-8478-4191-bd2e-e313a3ad45a8"
      },
      "execution_count": 11,
      "outputs": [
        {
          "output_type": "stream",
          "name": "stdout",
          "text": [
            "Epoch 1/10\n",
            "49/49 [==============================] - 4s 83ms/step - loss: 0.0369 - val_loss: 0.0328\n",
            "Epoch 2/10\n",
            "49/49 [==============================] - 5s 104ms/step - loss: 0.0346 - val_loss: 0.0308\n",
            "Epoch 3/10\n",
            "49/49 [==============================] - 4s 82ms/step - loss: 0.0339 - val_loss: 0.0299\n",
            "Epoch 4/10\n",
            "49/49 [==============================] - 4s 81ms/step - loss: 0.0328 - val_loss: 0.0279\n",
            "Epoch 5/10\n",
            "49/49 [==============================] - 5s 104ms/step - loss: 0.0288 - val_loss: 0.0276\n",
            "Epoch 6/10\n",
            "49/49 [==============================] - 4s 83ms/step - loss: 0.0247 - val_loss: 0.0201\n",
            "Epoch 7/10\n",
            "49/49 [==============================] - 4s 83ms/step - loss: 0.0202 - val_loss: 0.0172\n",
            "Epoch 8/10\n",
            "49/49 [==============================] - 7s 137ms/step - loss: 0.0183 - val_loss: 0.0152\n",
            "Epoch 9/10\n",
            "49/49 [==============================] - 4s 91ms/step - loss: 0.0162 - val_loss: 0.0134\n",
            "Epoch 10/10\n",
            "49/49 [==============================] - 7s 149ms/step - loss: 0.0148 - val_loss: 0.0130\n",
            "Epoch 1/10\n",
            "49/49 [==============================] - 4s 84ms/step - loss: 0.0177 - val_loss: 0.0152\n",
            "Epoch 2/10\n",
            "49/49 [==============================] - 4s 84ms/step - loss: 0.0150 - val_loss: 0.0136\n",
            "Epoch 3/10\n",
            "49/49 [==============================] - 5s 108ms/step - loss: 0.0148 - val_loss: 0.0136\n",
            "Epoch 4/10\n",
            "49/49 [==============================] - 4s 84ms/step - loss: 0.0143 - val_loss: 0.0135\n",
            "Epoch 5/10\n",
            "49/49 [==============================] - 4s 84ms/step - loss: 0.0143 - val_loss: 0.0129\n",
            "Epoch 6/10\n",
            "49/49 [==============================] - 5s 107ms/step - loss: 0.0133 - val_loss: 0.0129\n",
            "Epoch 7/10\n",
            "49/49 [==============================] - 4s 85ms/step - loss: 0.0137 - val_loss: 0.0124\n",
            "Epoch 8/10\n",
            "49/49 [==============================] - 4s 88ms/step - loss: 0.0128 - val_loss: 0.0122\n",
            "Epoch 9/10\n",
            "49/49 [==============================] - 5s 102ms/step - loss: 0.0119 - val_loss: 0.0122\n",
            "Epoch 10/10\n",
            "49/49 [==============================] - 4s 84ms/step - loss: 0.0123 - val_loss: 0.0113\n",
            "Epoch 1/10\n",
            "49/49 [==============================] - 0s 4ms/step - loss: 0.0080 - val_loss: 0.0062\n",
            "Epoch 2/10\n",
            "49/49 [==============================] - 0s 3ms/step - loss: 0.0074 - val_loss: 0.0069\n",
            "Epoch 3/10\n",
            "49/49 [==============================] - 0s 3ms/step - loss: 0.0071 - val_loss: 0.0062\n",
            "Epoch 4/10\n",
            "49/49 [==============================] - 0s 3ms/step - loss: 0.0076 - val_loss: 0.0081\n",
            "Epoch 5/10\n",
            "49/49 [==============================] - 0s 3ms/step - loss: 0.0072 - val_loss: 0.0048\n",
            "Epoch 6/10\n",
            "49/49 [==============================] - 0s 3ms/step - loss: 0.0072 - val_loss: 0.0052\n",
            "Epoch 7/10\n",
            "49/49 [==============================] - 0s 3ms/step - loss: 0.0067 - val_loss: 0.0052\n",
            "Epoch 8/10\n",
            "49/49 [==============================] - 0s 3ms/step - loss: 0.0061 - val_loss: 0.0049\n",
            "Epoch 9/10\n",
            "49/49 [==============================] - 0s 3ms/step - loss: 0.0061 - val_loss: 0.0048\n",
            "Epoch 10/10\n",
            "49/49 [==============================] - 0s 3ms/step - loss: 0.0064 - val_loss: 0.0048\n",
            "Epoch 1/10\n",
            "49/49 [==============================] - 4s 87ms/step - loss: 0.0620 - val_loss: 0.0602\n",
            "Epoch 2/10\n",
            "49/49 [==============================] - 3s 64ms/step - loss: 0.0619 - val_loss: 0.0601\n",
            "Epoch 3/10\n",
            "49/49 [==============================] - 3s 65ms/step - loss: 0.0619 - val_loss: 0.0601\n",
            "Epoch 4/10\n",
            "49/49 [==============================] - 4s 74ms/step - loss: 0.0618 - val_loss: 0.0600\n",
            "Epoch 5/10\n",
            "49/49 [==============================] - 4s 77ms/step - loss: 0.0618 - val_loss: 0.0599\n",
            "Epoch 6/10\n",
            "49/49 [==============================] - 3s 62ms/step - loss: 0.0618 - val_loss: 0.0599\n",
            "Epoch 7/10\n",
            "49/49 [==============================] - 3s 64ms/step - loss: 0.0618 - val_loss: 0.0599\n",
            "Epoch 8/10\n",
            "49/49 [==============================] - 4s 84ms/step - loss: 0.0619 - val_loss: 0.0599\n",
            "Epoch 9/10\n",
            "49/49 [==============================] - 3s 66ms/step - loss: 0.0619 - val_loss: 0.0599\n",
            "Epoch 10/10\n",
            "49/49 [==============================] - 3s 64ms/step - loss: 0.0618 - val_loss: 0.0599\n"
          ]
        }
      ]
    },
    {
      "cell_type": "code",
      "source": [
        "# Get the base models' predictions on the test data\n",
        "lstm_test_pred = lstm_model.predict(X_test)\n",
        "gru_test_pred = gru_model.predict(X_test)\n",
        "fnn_test_pred = fnn_model.predict(X_test)\n",
        "transformer_test_pred = transformer_model.predict(X_test)\n",
        "\n",
        "# Stack predictions together for test data\n",
        "stacked_test_predictions = np.column_stack((lstm_test_pred, gru_test_pred, fnn_test_pred, transformer_test_pred))\n",
        "\n"
      ],
      "metadata": {
        "colab": {
          "base_uri": "https://localhost:8080/"
        },
        "id": "CUrRx4T5eC_5",
        "outputId": "36ef17cb-d474-4186-e1d6-e91116b1509a"
      },
      "execution_count": 14,
      "outputs": [
        {
          "output_type": "stream",
          "name": "stdout",
          "text": [
            "13/13 [==============================] - 0s 21ms/step\n",
            "13/13 [==============================] - 0s 20ms/step\n",
            "13/13 [==============================] - 0s 1ms/step\n",
            "13/13 [==============================] - 0s 23ms/step\n"
          ]
        }
      ]
    },
    {
      "cell_type": "code",
      "source": [
        "from sklearn.linear_model import LinearRegression\n",
        "from sklearn.metrics import mean_squared_error, mean_absolute_error, r2_score\n",
        "import numpy as np\n",
        "\n",
        "# Define and train the meta-model (Linear Regression in this case)\n",
        "meta_model = LinearRegression()\n",
        "meta_model.fit(stacked_train_predictions, y_train)\n",
        "\n",
        "# Get final predictions using the Stacked Ensemble model\n",
        "stacked_final_predictions = meta_model.predict(stacked_test_predictions)\n",
        "\n",
        "# Compute Mean Squared Error (MSE)\n",
        "mse = mean_squared_error(y_test, stacked_final_predictions)\n",
        "\n",
        "# Compute Root Mean Squared Error (RMSE)\n",
        "rmse = np.sqrt(mse)\n",
        "\n",
        "# Compute Mean Absolute Error (MAE)\n",
        "mae = mean_absolute_error(y_test, stacked_final_predictions)\n",
        "\n",
        "# Compute R-squared (R2) score\n",
        "r2 = r2_score(y_test, stacked_final_predictions)\n",
        "\n",
        "print(f\"Mean Squared Error (MSE): {mse:.2f}\")\n",
        "print(f\"Root Mean Squared Error (RMSE): {rmse:.2f}\")\n",
        "print(f\"Mean Absolute Error (MAE): {mae:.2f}\")\n",
        "print(f\"R-squared (R2) Score: {r2:.2f}\")\n",
        "\n"
      ],
      "metadata": {
        "colab": {
          "base_uri": "https://localhost:8080/"
        },
        "id": "pA1g3u2II4QW",
        "outputId": "2e049f0b-bffd-46ef-a4e9-34fe688f0175"
      },
      "execution_count": 16,
      "outputs": [
        {
          "output_type": "stream",
          "name": "stdout",
          "text": [
            "Mean Squared Error (MSE): 0.00\n",
            "Root Mean Squared Error (RMSE): 0.07\n",
            "Mean Absolute Error (MAE): 0.04\n",
            "R-squared (R2) Score: 0.92\n"
          ]
        }
      ]
    },
    {
      "cell_type": "code",
      "source": [
        "\n",
        "from tensorflow.keras.models import Sequential\n",
        "from tensorflow.keras.layers import Dense\n",
        "from tensorflow.keras.optimizers import Adam\n",
        "\n",
        "# Define a simple neural network as the meta-model\n",
        "meta_model = Sequential([\n",
        "    Dense(32, activation='relu', input_shape=(stacked_train_predictions.shape[1],)),\n",
        "    Dense(1)\n",
        "])\n",
        "\n",
        "meta_model.compile(optimizer=Adam(learning_rate=0.01), loss='mean_squared_error')\n",
        "\n",
        "# Train the meta-model\n",
        "stacked_history = meta_model.fit(stacked_train_predictions, y_train, epochs=10, batch_size=32, validation_data=(stacked_test_predictions, y_test))\n",
        "\n",
        "# Plot the loss curve\n",
        "import matplotlib.pyplot as plt\n",
        "\n",
        "plt.plot(stacked_history.history['loss'], label='Train')\n",
        "plt.plot(stacked_history.history['val_loss'], label='Validation')\n",
        "plt.title('Stacked Ensemble Training & Validation Loss')\n",
        "plt.ylabel('Loss')\n",
        "plt.xlabel('Epoch')\n",
        "plt.legend()\n",
        "plt.grid(True)\n",
        "plt.show()\n",
        "\n"
      ],
      "metadata": {
        "colab": {
          "base_uri": "https://localhost:8080/",
          "height": 819
        },
        "id": "3DV8ykcHJXID",
        "outputId": "6a22ab0b-5c5d-477a-bd07-ed6b4a1329a1"
      },
      "execution_count": 22,
      "outputs": [
        {
          "output_type": "stream",
          "name": "stdout",
          "text": [
            "Epoch 1/10\n",
            "49/49 [==============================] - 1s 7ms/step - loss: 0.0375 - val_loss: 0.0065\n",
            "Epoch 2/10\n",
            "49/49 [==============================] - 0s 2ms/step - loss: 0.0047 - val_loss: 0.0057\n",
            "Epoch 3/10\n",
            "49/49 [==============================] - 0s 3ms/step - loss: 0.0042 - val_loss: 0.0053\n",
            "Epoch 4/10\n",
            "49/49 [==============================] - 0s 2ms/step - loss: 0.0038 - val_loss: 0.0052\n",
            "Epoch 5/10\n",
            "49/49 [==============================] - 0s 2ms/step - loss: 0.0036 - val_loss: 0.0050\n",
            "Epoch 6/10\n",
            "49/49 [==============================] - 0s 2ms/step - loss: 0.0034 - val_loss: 0.0049\n",
            "Epoch 7/10\n",
            "49/49 [==============================] - 0s 2ms/step - loss: 0.0035 - val_loss: 0.0048\n",
            "Epoch 8/10\n",
            "49/49 [==============================] - 0s 2ms/step - loss: 0.0035 - val_loss: 0.0048\n",
            "Epoch 9/10\n",
            "49/49 [==============================] - 0s 3ms/step - loss: 0.0035 - val_loss: 0.0049\n",
            "Epoch 10/10\n",
            "49/49 [==============================] - 0s 2ms/step - loss: 0.0035 - val_loss: 0.0049\n"
          ]
        },
        {
          "output_type": "display_data",
          "data": {
            "text/plain": [
              "<Figure size 640x480 with 1 Axes>"
            ],
            "image/png": "[encoded data removed]"
          },
          "metadata": {}
        }
      ]
    }
  ]
}