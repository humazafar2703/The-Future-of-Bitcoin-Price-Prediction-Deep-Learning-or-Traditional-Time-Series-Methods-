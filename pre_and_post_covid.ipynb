{
  "nbformat": 4,
  "nbformat_minor": 0,
  "metadata": {
    "colab": {
      "provenance": []
    },
    "kernelspec": {
      "name": "python3",
      "display_name": "Python 3"
    },
    "language_info": {
      "name": "python"
    }
  },
  "cells": [
    {
      "cell_type": "code",
      "source": [
        "import pandas as pd\n",
        "from datetime import datetime\n",
        "from scipy.stats import ttest_ind\n",
        "import matplotlib.pyplot as plt\n",
        "import numpy as np\n"
      ],
      "metadata": {
        "id": "3nguE1iqG1eK"
      },
      "execution_count": null,
      "outputs": []
    },
    {
      "cell_type": "code",
      "source": [
        "data = pd.read_csv(\"/content/daily_btc_1.csv\")"
      ],
      "metadata": {
        "id": "-G3GxcfFG3ne"
      },
      "execution_count": null,
      "outputs": []
    },
    {
      "cell_type": "markdown",
      "source": [
        "**DATA PRE-PROCESSING**"
      ],
      "metadata": {
        "id": "B1_uYAR5IVaM"
      }
    },
    {
      "cell_type": "code",
      "source": [
        "# Load the data again\n",
        "btc_df = pd.read_csv(\"/content/daily_btc_1.csv\")\n",
        "\n",
        "# Convert 'Date' to datetime format and price columns to numeric format\n",
        "btc_df['Date'] = pd.to_datetime(btc_df['Date'])\n",
        "for col in ['Open', 'High', 'Low', 'Close']:\n",
        "    btc_df[col] = btc_df[col].str.replace(',', '').astype(float)\n",
        "\n",
        "\n"
      ],
      "metadata": {
        "id": "js0Ux-AkKxvd"
      },
      "execution_count": null,
      "outputs": []
    },
    {
      "cell_type": "code",
      "source": [
        "# Sort the data by date in ascending order\n",
        "btc_df = btc_df.sort_values('Date')\n",
        "\n",
        "# Define the date of the WHO COVID-19 pandemic declaration\n",
        "covid_declaration_date = pd.to_datetime('2020-03-11')\n",
        "\n",
        "# Split the data into before and after the declaration\n",
        "btc_before_covid = btc_df[btc_df['Date'] < covid_declaration_date]\n",
        "btc_after_covid = btc_df[btc_df['Date'] >= covid_declaration_date]\n",
        "\n",
        "# Get descriptive statistics for the entire dataset, before COVID, and after COVID\n",
        "desc_all = btc_df.describe()\n",
        "desc_before = btc_before_covid.describe()\n",
        "desc_after = btc_after_covid.describe()\n",
        "\n",
        "desc_all, desc_before, desc_after"
      ],
      "metadata": {
        "colab": {
          "base_uri": "https://localhost:8080/"
        },
        "id": "yzIIJHpnWWVt",
        "outputId": "7483ab60-6685-4dc7-d269-2cfecea6af3a"
      },
      "execution_count": null,
      "outputs": [
        {
          "output_type": "execute_result",
          "data": {
            "text/plain": [
              "(               Open          High           Low         Close\n",
              " count   2015.000000   2015.000000   2015.000000   2015.000000\n",
              " mean   19240.985112  19744.907196  18694.158809  19246.125558\n",
              " std    16625.638414  17049.008242  16135.351689  16616.485889\n",
              " min      608.000000    612.000000    608.000000    608.000000\n",
              " 25%     6584.500000   6751.500000   6437.500000   6591.000000\n",
              " 50%    11428.000000  11711.000000  11056.000000  11397.000000\n",
              " 75%    29504.500000  30318.000000  28941.500000  29502.500000\n",
              " max    67802.000000  68925.000000  66112.000000  67802.000000,\n",
              "                Open          High           Low         Close\n",
              " count    945.000000    945.000000    945.000000    945.000000\n",
              " mean    6207.893122   6406.632804   5988.457143   6209.532275\n",
              " std     3698.164520   3858.480554   3503.270787   3692.145745\n",
              " min      608.000000    612.000000    608.000000    608.000000\n",
              " 25%     3545.000000   3608.000000   3447.000000   3563.000000\n",
              " 50%     6498.000000   6623.000000   6402.000000   6501.000000\n",
              " 75%     8588.000000   8794.000000   8296.000000   8589.000000\n",
              " max    19283.000000  19783.000000  18792.000000  19283.000000,\n",
              "                Open          High           Low         Close\n",
              " count   1070.000000   1070.000000   1070.000000   1070.000000\n",
              " mean   30751.519626  31524.971963  29915.549533  30759.752336\n",
              " std    15030.276642  15437.014542  14522.924641  15007.442663\n",
              " min     4904.000000   5502.000000   3966.000000   4904.000000\n",
              " 25%    19426.500000  19838.750000  19083.750000  19422.750000\n",
              " 50%    28277.500000  28845.500000  27789.500000  28300.500000\n",
              " 75%    42065.250000  43148.750000  40979.500000  42072.750000\n",
              " max    67802.000000  68925.000000  66112.000000  67802.000000)"
            ]
          },
          "metadata": {},
          "execution_count": 11
        }
      ]
    },
    {
      "cell_type": "code",
      "source": [
        "# Calculate the mean closing price for each group\n",
        "mean_close_before = btc_before_covid['Close'].mean()\n",
        "mean_close_after = btc_after_covid['Close'].mean()\n",
        "\n",
        "# Conduct a t-test to compare the means\n",
        "t_stat, p_value = stats.ttest_ind(btc_before_covid['Close'], btc_after_covid['Close'])\n",
        "\n",
        "mean_close_before, mean_close_after, t_stat, p_value\n"
      ],
      "metadata": {
        "colab": {
          "base_uri": "https://localhost:8080/"
        },
        "id": "ZexIET8jZvdm",
        "outputId": "44dc304c-107d-41fd-dc11-e310469b736f"
      },
      "execution_count": null,
      "outputs": [
        {
          "output_type": "execute_result",
          "data": {
            "text/plain": [
              "(6209.532275132276, 30759.752336448597, -48.994267301079155, 0.0)"
            ]
          },
          "metadata": {},
          "execution_count": 12
        }
      ]
    },
    {
      "cell_type": "markdown",
      "source": [],
      "metadata": {
        "id": "2Uz8NgluZyxr"
      }
    },
    {
      "cell_type": "markdown",
      "source": [
        "**Splitting data into Pre-Covid and Post-Covid**"
      ],
      "metadata": {
        "id": "GAAOVlZVLK42"
      }
    },
    {
      "cell_type": "code",
      "source": [
        "# Define the date of the WHO COVID-19 pandemic declaration\n",
        "covid_declaration_date = pd.to_datetime('2020-03-11')\n",
        "\n",
        "# Split the data into before and after the declaration\n",
        "btc_before_covid = btc_df[btc_df['Date'] < covid_declaration_date]\n",
        "btc_after_covid = btc_df[btc_df['Date'] >= covid_declaration_date]\n",
        "\n",
        "btc_before_covid, btc_after_covid\n"
      ],
      "metadata": {
        "colab": {
          "base_uri": "https://localhost:8080/"
        },
        "id": "1Q1dqI8QWtvh",
        "outputId": "318ffaff-bc65-49aa-9095-a5d921328b04"
      },
      "execution_count": null,
      "outputs": [
        {
          "output_type": "execute_result",
          "data": {
            "text/plain": [
              "(           Date    Open    High     Low   Close\n",
              " 2014 2016-10-03   613.0   614.0   608.0   610.0\n",
              " 2013 2016-10-04   610.0   613.0   610.0   612.0\n",
              " 2012 2016-10-05   612.0   612.0   608.0   608.0\n",
              " 2011 2016-10-06   608.0   613.0   608.0   612.0\n",
              " 2010 2016-10-07   612.0   612.0   610.0   616.0\n",
              " ...         ...     ...     ...     ...     ...\n",
              " 1084 2020-02-25  9607.0  9673.0  9262.0  9383.0\n",
              " 1078 2020-02-26  9391.0  9425.0  8648.0  8763.0\n",
              " 1072 2020-02-27  8754.0  8971.0  8535.0  8756.0\n",
              " 1066 2020-02-28  8760.0  8903.0  8446.0  8676.0\n",
              " 1062 2020-02-29  8676.0  8814.0  8596.0  8640.0\n",
              " \n",
              " [945 rows x 5 columns],\n",
              "            Date     Open     High      Low    Close\n",
              " 1059 2020-03-13   5747.0   6029.0   3966.0   5435.0\n",
              " 1053 2020-03-14   5436.0   5766.0   5224.0   5354.0\n",
              " 1047 2020-03-15   5354.0   5583.0   5074.0   5187.0\n",
              " 1041 2020-03-16   5188.0   5959.0   4461.0   4904.0\n",
              " 1035 2020-03-17   4904.0   5502.0   4882.0   5474.0\n",
              " ...         ...      ...      ...      ...      ...\n",
              " 1294 2023-07-09  30161.0  30417.0  30155.0  30203.0\n",
              " 1287 2023-07-10  30203.0  30979.0  30001.0  30793.0\n",
              " 1280 2023-07-11  30793.0  30793.0  30261.0  30586.0\n",
              " 1273 2023-07-12  30577.0  30833.0  30267.0  30342.0\n",
              " 612  2023-07-13  30342.0  31638.0  30279.0  31377.0\n",
              " \n",
              " [1070 rows x 5 columns])"
            ]
          },
          "metadata": {},
          "execution_count": 15
        }
      ]
    },
    {
      "cell_type": "code",
      "source": [
        "# Save the pre-COVID and post-COVID data to CSV files\n",
        "btc_before_covid.to_csv(\"/content/pre_covid_data.csv\", index=False)\n",
        "btc_after_covid.to_csv(\"/content/post_covid_data.csv\", index=False)\n"
      ],
      "metadata": {
        "id": "QI6UICq2z9Yl"
      },
      "execution_count": null,
      "outputs": []
    },
    {
      "cell_type": "code",
      "source": [
        "# Get descriptive statistics for the entire dataset, before COVID, and after COVID\n",
        "desc_all = btc_df['Close'].describe()\n",
        "desc_before = btc_before_covid['Close'].describe()\n",
        "desc_after = btc_after_covid['Close'].describe()\n",
        "\n",
        "desc_all, desc_before, desc_after\n"
      ],
      "metadata": {
        "colab": {
          "base_uri": "https://localhost:8080/"
        },
        "id": "grNs9mkq5lAv",
        "outputId": "df4c248b-c0cd-4c7d-b040-6460adbd151a"
      },
      "execution_count": null,
      "outputs": [
        {
          "output_type": "execute_result",
          "data": {
            "text/plain": [
              "(count     2015.000000\n",
              " mean     19246.125558\n",
              " std      16616.485889\n",
              " min        608.000000\n",
              " 25%       6591.000000\n",
              " 50%      11397.000000\n",
              " 75%      29502.500000\n",
              " max      67802.000000\n",
              " Name: Close, dtype: float64,\n",
              " count      945.000000\n",
              " mean      6209.532275\n",
              " std       3692.145745\n",
              " min        608.000000\n",
              " 25%       3563.000000\n",
              " 50%       6501.000000\n",
              " 75%       8589.000000\n",
              " max      19283.000000\n",
              " Name: Close, dtype: float64,\n",
              " count     1070.000000\n",
              " mean     30759.752336\n",
              " std      15007.442663\n",
              " min       4904.000000\n",
              " 25%      19422.750000\n",
              " 50%      28300.500000\n",
              " 75%      42072.750000\n",
              " max      67802.000000\n",
              " Name: Close, dtype: float64)"
            ]
          },
          "metadata": {},
          "execution_count": 24
        }
      ]
    },
    {
      "cell_type": "code",
      "source": [
        "import scipy.stats as stats\n",
        "\n",
        "\n",
        "# Perform a two-sample t-test\n",
        "t_statistic, p_value = stats.ttest_ind(pre_covid_price, post_covid_price, equal_var=False)\n",
        "\n",
        "# Print the results\n",
        "print(f\"t-statistic: {t_statistic}\")\n",
        "print(f\"p-value: {p_value}\")\n",
        "\n"
      ],
      "metadata": {
        "colab": {
          "base_uri": "https://localhost:8080/"
        },
        "id": "Zpt6HDa1LinH",
        "outputId": "02cca2de-1015-481d-cc2c-ab32f198c76e"
      },
      "execution_count": null,
      "outputs": [
        {
          "output_type": "stream",
          "name": "stdout",
          "text": [
            "t-statistic: -51.76625265514535\n",
            "p-value: 1.582987164371413e-309\n"
          ]
        }
      ]
    },
    {
      "cell_type": "markdown",
      "source": [
        "The t-statistic is -51.77, which is much greater than the critical value of 1.96 for a two-tailed test with a significance level of 0.05. This means that we can reject the null hypothesis that the mean close price of Bitcoin is the same in the pre-COVID and post-COVID periods.\n",
        "\n",
        "The p-value is 1.582987164371413e-309, which is essentially zero. This means that there is a zero probability that the difference in the mean close price of Bitcoin between the pre-COVID and post-COVID periods is due to chance.\n",
        "\n",
        "In conclusion, the results of the two-sample t-test suggest that the mean close price of Bitcoin is significantly different in the pre-COVID and post-COVID periods. This means that the COVID pandemic had a significant impact on the price of Bitcoin."
      ],
      "metadata": {
        "id": "69zFmMeTOYCh"
      }
    },
    {
      "cell_type": "code",
      "source": [
        "import statsmodels.tsa.arima.model as smt\n",
        "\n",
        "# Drop any NaN values from the data\n",
        "pre_covid_data_no_nan = pre_covid_data.dropna()\n",
        "post_covid_data_no_nan = post_covid_data.dropna()\n",
        "\n",
        "# Fit an ARIMA model on the pre-COVID data\n",
        "model_pre = smt.ARIMA(pre_covid_data_no_nan['Close'].astype('float64').to_numpy(), order=(1,1,1))\n",
        "model_pre_fit = model_pre.fit()\n",
        "\n",
        "# Calculate the BIC value, MSE value, RMSE value, and AIC value for the pre-COVID ARIMA model\n",
        "bic_pre = model_pre_fit.bic\n",
        "mse_pre = np.mean((model_pre_fit.predict() - pre_covid_data_no_nan['Close'].astype('float64')**2))\n",
        "rmse_pre = np.sqrt(mse_pre)\n",
        "aic_pre = model_pre_fit.aic\n",
        "\n",
        "# Fit an ARIMA model on the post-COVID data\n",
        "model_post = smt.ARIMA(post_covid_data_no_nan['Close'].astype('float64').to_numpy(), order=(1,1,1))\n",
        "model_post_fit = model_post.fit()\n",
        "\n",
        "# Calculate the BIC value, MSE value, RMSE value, and AIC value for the post-COVID ARIMA model\n",
        "bic_post = model_post_fit.bic\n",
        "mse_post = np.mean((model_post_fit.predict() - post_covid_data_no_nan['Close'].astype('float64')**2))\n",
        "rmse_post = np.sqrt(mse_post)\n",
        "aic_post = model_post_fit.aic\n",
        "\n",
        "# Print the results\n",
        "print(\"The BIC value for the pre-COVID ARIMA model is:\", bic_pre)\n",
        "print(\"The MSE value for the pre-COVID ARIMA model is:\", mse_pre)\n",
        "print(\"The RMSE value for the pre-COVID ARIMA model is:\", rmse_pre)\n",
        "print(\"The AIC value for the pre-COVID ARIMA model is:\", aic_pre)\n",
        "print(\"The BIC value for the post-COVID ARIMA model is:\", bic_post)\n",
        "print(\"The MSE value for the post-COVID ARIMA model is:\", mse_post)\n",
        "print(\"The RMSE value for the post-COVID ARIMA model is:\", rmse_post)\n",
        "print(\"The AIC value for the post-COVID ARIMA model is:\", aic_post)"
      ],
      "metadata": {
        "colab": {
          "base_uri": "https://localhost:8080/"
        },
        "id": "GyuxMYDzQ2UV",
        "outputId": "f6eca615-89c9-4637-8404-806a8ed495aa"
      },
      "execution_count": null,
      "outputs": [
        {
          "output_type": "stream",
          "name": "stdout",
          "text": [
            "The BIC value for the pre-COVID ARIMA model is: 14008.942074637622\n",
            "The MSE value for the pre-COVID ARIMA model is: -52169605.33791222\n",
            "The RMSE value for the pre-COVID ARIMA model is: nan\n",
            "The AIC value for the pre-COVID ARIMA model is: 13994.391696139186\n",
            "The BIC value for the post-COVID ARIMA model is: 18379.059540932194\n",
            "The MSE value for the post-COVID ARIMA model is: -1171144479.5297284\n",
            "The RMSE value for the post-COVID ARIMA model is: nan\n",
            "The AIC value for the post-COVID ARIMA model is: 18364.13610419912\n"
          ]
        },
        {
          "output_type": "stream",
          "name": "stderr",
          "text": [
            "<ipython-input-21-e19cb89cb5d7>:14: RuntimeWarning: invalid value encountered in sqrt\n",
            "  rmse_pre = np.sqrt(mse_pre)\n",
            "/usr/local/lib/python3.10/dist-packages/statsmodels/tsa/statespace/sarimax.py:966: UserWarning: Non-stationary starting autoregressive parameters found. Using zeros as starting parameters.\n",
            "  warn('Non-stationary starting autoregressive parameters'\n",
            "/usr/local/lib/python3.10/dist-packages/statsmodels/tsa/statespace/sarimax.py:978: UserWarning: Non-invertible starting MA parameters found. Using zeros as starting parameters.\n",
            "  warn('Non-invertible starting MA parameters found.'\n",
            "<ipython-input-21-e19cb89cb5d7>:24: RuntimeWarning: invalid value encountered in sqrt\n",
            "  rmse_post = np.sqrt(mse_post)\n"
          ]
        }
      ]
    },
    {
      "cell_type": "markdown",
      "source": [
        "The code attempts to fit ARIMA models to pre-COVID and post-COVID Bitcoin price data. However, the code runs into an error because the MSE values for both models are negative. This means that the error terms for the models are larger than the actual values, which is not possible.\n"
      ],
      "metadata": {
        "id": "bssw_985T7QP"
      }
    },
    {
      "cell_type": "code",
      "source": [
        "#EXTREME GRADIENT BOOST MODEL\n",
        "# Create the COVID-19 feature\n",
        "btc_df['COVID'] = btc_df['Date'].apply(lambda x: 1 if x >= datetime(2020, 3, 11) else 0)\n",
        "\n",
        "btc_df.head()"
      ],
      "metadata": {
        "colab": {
          "base_uri": "https://localhost:8080/",
          "height": 206
        },
        "id": "CE8zYkkUT9Xg",
        "outputId": "9a72f490-2333-40fb-8495-d4e6060b2d49"
      },
      "execution_count": null,
      "outputs": [
        {
          "output_type": "execute_result",
          "data": {
            "text/plain": [
              "           Date   Open   High    Low  Close  COVID\n",
              "2014 2016-10-03  613.0  614.0  608.0  610.0      0\n",
              "2013 2016-10-04  610.0  613.0  610.0  612.0      0\n",
              "2012 2016-10-05  612.0  612.0  608.0  608.0      0\n",
              "2011 2016-10-06  608.0  613.0  608.0  612.0      0\n",
              "2010 2016-10-07  612.0  612.0  610.0  616.0      0"
            ],
            "text/html": [
              "\n",
              "\n",
              "  <div id=\"df-5c490a3e-9a16-4249-bfdf-82ac0b866e8c\">\n",
              "    <div class=\"colab-df-container\">\n",
              "      <div>\n",
              "<style scoped>\n",
              "    .dataframe tbody tr th:only-of-type {\n",
              "        vertical-align: middle;\n",
              "    }\n",
              "\n",
              "    .dataframe tbody tr th {\n",
              "        vertical-align: top;\n",
              "    }\n",
              "\n",
              "    .dataframe thead th {\n",
              "        text-align: right;\n",
              "    }\n",
              "</style>\n",
              "<table border=\"1\" class=\"dataframe\">\n",
              "  <thead>\n",
              "    <tr style=\"text-align: right;\">\n",
              "      <th></th>\n",
              "      <th>Date</th>\n",
              "      <th>Open</th>\n",
              "      <th>High</th>\n",
              "      <th>Low</th>\n",
              "      <th>Close</th>\n",
              "      <th>COVID</th>\n",
              "    </tr>\n",
              "  </thead>\n",
              "  <tbody>\n",
              "    <tr>\n",
              "      <th>2014</th>\n",
              "      <td>2016-10-03</td>\n",
              "      <td>613.0</td>\n",
              "      <td>614.0</td>\n",
              "      <td>608.0</td>\n",
              "      <td>610.0</td>\n",
              "      <td>0</td>\n",
              "    </tr>\n",
              "    <tr>\n",
              "      <th>2013</th>\n",
              "      <td>2016-10-04</td>\n",
              "      <td>610.0</td>\n",
              "      <td>613.0</td>\n",
              "      <td>610.0</td>\n",
              "      <td>612.0</td>\n",
              "      <td>0</td>\n",
              "    </tr>\n",
              "    <tr>\n",
              "      <th>2012</th>\n",
              "      <td>2016-10-05</td>\n",
              "      <td>612.0</td>\n",
              "      <td>612.0</td>\n",
              "      <td>608.0</td>\n",
              "      <td>608.0</td>\n",
              "      <td>0</td>\n",
              "    </tr>\n",
              "    <tr>\n",
              "      <th>2011</th>\n",
              "      <td>2016-10-06</td>\n",
              "      <td>608.0</td>\n",
              "      <td>613.0</td>\n",
              "      <td>608.0</td>\n",
              "      <td>612.0</td>\n",
              "      <td>0</td>\n",
              "    </tr>\n",
              "    <tr>\n",
              "      <th>2010</th>\n",
              "      <td>2016-10-07</td>\n",
              "      <td>612.0</td>\n",
              "      <td>612.0</td>\n",
              "      <td>610.0</td>\n",
              "      <td>616.0</td>\n",
              "      <td>0</td>\n",
              "    </tr>\n",
              "  </tbody>\n",
              "</table>\n",
              "</div>\n",
              "      <button class=\"colab-df-convert\" onclick=\"convertToInteractive('df-5c490a3e-9a16-4249-bfdf-82ac0b866e8c')\"\n",
              "              title=\"Convert this dataframe to an interactive table.\"\n",
              "              style=\"display:none;\">\n",
              "\n",
              "  <svg xmlns=\"http://www.w3.org/2000/svg\" height=\"24px\"viewBox=\"0 0 24 24\"\n",
              "       width=\"24px\">\n",
              "    <path d=\"M0 0h24v24H0V0z\" fill=\"none\"/>\n",
              "    <path d=\"M18.56 5.44l.94 2.06.94-2.06 2.06-.94-2.06-.94-.94-2.06-.94 2.06-2.06.94zm-11 1L8.5 8.5l.94-2.06 2.06-.94-2.06-.94L8.5 2.5l-.94 2.06-2.06.94zm10 10l.94 2.06.94-2.06 2.06-.94-2.06-.94-.94-2.06-.94 2.06-2.06.94z\"/><path d=\"M17.41 7.96l-1.37-1.37c-.4-.4-.92-.59-1.43-.59-.52 0-1.04.2-1.43.59L10.3 9.45l-7.72 7.72c-.78.78-.78 2.05 0 2.83L4 21.41c.39.39.9.59 1.41.59.51 0 1.02-.2 1.41-.59l7.78-7.78 2.81-2.81c.8-.78.8-2.07 0-2.86zM5.41 20L4 18.59l7.72-7.72 1.47 1.35L5.41 20z\"/>\n",
              "  </svg>\n",
              "      </button>\n",
              "\n",
              "\n",
              "\n",
              "    <div id=\"df-f809a9eb-89cb-4389-9e1c-334e17068af1\">\n",
              "      <button class=\"colab-df-quickchart\" onclick=\"quickchart('df-f809a9eb-89cb-4389-9e1c-334e17068af1')\"\n",
              "              title=\"Suggest charts.\"\n",
              "              style=\"display:none;\">\n",
              "\n",
              "<svg xmlns=\"http://www.w3.org/2000/svg\" height=\"24px\"viewBox=\"0 0 24 24\"\n",
              "     width=\"24px\">\n",
              "    <g>\n",
              "        <path d=\"M19 3H5c-1.1 0-2 .9-2 2v14c0 1.1.9 2 2 2h14c1.1 0 2-.9 2-2V5c0-1.1-.9-2-2-2zM9 17H7v-7h2v7zm4 0h-2V7h2v10zm4 0h-2v-4h2v4z\"/>\n",
              "    </g>\n",
              "</svg>\n",
              "      </button>\n",
              "    </div>\n",
              "\n",
              "<style>\n",
              "  .colab-df-quickchart {\n",
              "    background-color: #E8F0FE;\n",
              "    border: none;\n",
              "    border-radius: 50%;\n",
              "    cursor: pointer;\n",
              "    display: none;\n",
              "    fill: #1967D2;\n",
              "    height: 32px;\n",
              "    padding: 0 0 0 0;\n",
              "    width: 32px;\n",
              "  }\n",
              "\n",
              "  .colab-df-quickchart:hover {\n",
              "    background-color: #E2EBFA;\n",
              "    box-shadow: 0px 1px 2px rgba(60, 64, 67, 0.3), 0px 1px 3px 1px rgba(60, 64, 67, 0.15);\n",
              "    fill: #174EA6;\n",
              "  }\n",
              "\n",
              "  [theme=dark] .colab-df-quickchart {\n",
              "    background-color: #3B4455;\n",
              "    fill: #D2E3FC;\n",
              "  }\n",
              "\n",
              "  [theme=dark] .colab-df-quickchart:hover {\n",
              "    background-color: #434B5C;\n",
              "    box-shadow: 0px 1px 3px 1px rgba(0, 0, 0, 0.15);\n",
              "    filter: drop-shadow(0px 1px 2px rgba(0, 0, 0, 0.3));\n",
              "    fill: #FFFFFF;\n",
              "  }\n",
              "</style>\n",
              "\n",
              "    <script>\n",
              "      async function quickchart(key) {\n",
              "        const containerElement = document.querySelector('#' + key);\n",
              "        const charts = await google.colab.kernel.invokeFunction(\n",
              "            'suggestCharts', [key], {});\n",
              "      }\n",
              "    </script>\n",
              "\n",
              "      <script>\n",
              "\n",
              "function displayQuickchartButton(domScope) {\n",
              "  let quickchartButtonEl =\n",
              "    domScope.querySelector('#df-f809a9eb-89cb-4389-9e1c-334e17068af1 button.colab-df-quickchart');\n",
              "  quickchartButtonEl.style.display =\n",
              "    google.colab.kernel.accessAllowed ? 'block' : 'none';\n",
              "}\n",
              "\n",
              "        displayQuickchartButton(document);\n",
              "      </script>\n",
              "      <style>\n",
              "    .colab-df-container {\n",
              "      display:flex;\n",
              "      flex-wrap:wrap;\n",
              "      gap: 12px;\n",
              "    }\n",
              "\n",
              "    .colab-df-convert {\n",
              "      background-color: #E8F0FE;\n",
              "      border: none;\n",
              "      border-radius: 50%;\n",
              "      cursor: pointer;\n",
              "      display: none;\n",
              "      fill: #1967D2;\n",
              "      height: 32px;\n",
              "      padding: 0 0 0 0;\n",
              "      width: 32px;\n",
              "    }\n",
              "\n",
              "    .colab-df-convert:hover {\n",
              "      background-color: #E2EBFA;\n",
              "      box-shadow: 0px 1px 2px rgba(60, 64, 67, 0.3), 0px 1px 3px 1px rgba(60, 64, 67, 0.15);\n",
              "      fill: #174EA6;\n",
              "    }\n",
              "\n",
              "    [theme=dark] .colab-df-convert {\n",
              "      background-color: #3B4455;\n",
              "      fill: #D2E3FC;\n",
              "    }\n",
              "\n",
              "    [theme=dark] .colab-df-convert:hover {\n",
              "      background-color: #434B5C;\n",
              "      box-shadow: 0px 1px 3px 1px rgba(0, 0, 0, 0.15);\n",
              "      filter: drop-shadow(0px 1px 2px rgba(0, 0, 0, 0.3));\n",
              "      fill: #FFFFFF;\n",
              "    }\n",
              "  </style>\n",
              "\n",
              "      <script>\n",
              "        const buttonEl =\n",
              "          document.querySelector('#df-5c490a3e-9a16-4249-bfdf-82ac0b866e8c button.colab-df-convert');\n",
              "        buttonEl.style.display =\n",
              "          google.colab.kernel.accessAllowed ? 'block' : 'none';\n",
              "\n",
              "        async function convertToInteractive(key) {\n",
              "          const element = document.querySelector('#df-5c490a3e-9a16-4249-bfdf-82ac0b866e8c');\n",
              "          const dataTable =\n",
              "            await google.colab.kernel.invokeFunction('convertToInteractive',\n",
              "                                                     [key], {});\n",
              "          if (!dataTable) return;\n",
              "\n",
              "          const docLinkHtml = 'Like what you see? Visit the ' +\n",
              "            '<a target=\"_blank\" href=https://colab.research.google.com/notebooks/data_table.ipynb>data table notebook</a>'\n",
              "            + ' to learn more about interactive tables.';\n",
              "          element.innerHTML = '';\n",
              "          dataTable['output_type'] = 'display_data';\n",
              "          await google.colab.output.renderOutput(dataTable, element);\n",
              "          const docLink = document.createElement('div');\n",
              "          docLink.innerHTML = docLinkHtml;\n",
              "          element.appendChild(docLink);\n",
              "        }\n",
              "      </script>\n",
              "    </div>\n",
              "  </div>\n"
            ]
          },
          "metadata": {},
          "execution_count": 30
        }
      ]
    },
    {
      "cell_type": "code",
      "source": [
        "# Check for missing values in the dataset\n",
        "btc_df.isnull().sum()\n"
      ],
      "metadata": {
        "colab": {
          "base_uri": "https://localhost:8080/"
        },
        "id": "0Q4OjJbnX5Ul",
        "outputId": "efd8acd8-3bbc-4cf4-f711-aeed248f7e0e"
      },
      "execution_count": null,
      "outputs": [
        {
          "output_type": "execute_result",
          "data": {
            "text/plain": [
              "Date     0\n",
              "Open     0\n",
              "High     0\n",
              "Low      0\n",
              "Close    0\n",
              "COVID    0\n",
              "dtype: int64"
            ]
          },
          "metadata": {},
          "execution_count": 32
        }
      ]
    },
    {
      "cell_type": "code",
      "source": [
        "from sklearn.model_selection import train_test_split\n",
        "from xgboost import XGBRegressor\n",
        "from sklearn.metrics import mean_squared_error, mean_absolute_error, r2_score\n",
        "\n",
        "# Drop rows with missing values\n",
        "btc_df_clean = btc_df.dropna()\n",
        "\n",
        "# Define X and y\n",
        "X = btc_df_clean.drop(['Date', 'Close'], axis=1)\n",
        "y = btc_df_clean['Close']\n",
        "\n",
        "# Split the data into training and testing sets\n",
        "X_train, X_test, y_train, y_test = train_test_split(X, y, test_size=0.2, random_state=42)\n",
        "\n",
        "# Train the model\n",
        "model = XGBRegressor()\n",
        "model.fit(X_train, y_train)\n",
        "\n",
        "# Make predictions\n",
        "y_pred = model.predict(X_test)\n",
        "\n",
        "# Evaluate the model\n",
        "mse = mean_squared_error(y_test, y_pred)\n",
        "mae = mean_absolute_error(y_test, y_pred)\n",
        "r2 = r2_score(y_test, y_pred)\n",
        "\n",
        "mse, mae, r2\n"
      ],
      "metadata": {
        "colab": {
          "base_uri": "https://localhost:8080/"
        },
        "id": "4vRz5fZIY5sa",
        "outputId": "61acbfc6-eed5-4825-9b0b-8a1dbfef5a42"
      },
      "execution_count": null,
      "outputs": [
        {
          "output_type": "execute_result",
          "data": {
            "text/plain": [
              "(413696.5077608406, 356.1109276859104, 0.9985674717664168)"
            ]
          },
          "metadata": {},
          "execution_count": 34
        }
      ]
    }
  ]
}