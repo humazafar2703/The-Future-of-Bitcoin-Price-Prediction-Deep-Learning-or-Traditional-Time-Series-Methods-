{
 "cells": [
  {
   "cell_type": "code",
   "execution_count": null,
   "metadata": {},
   "outputs": [],
   "source": [
    "import pandas as pd"
   ]
  },
  {
   "cell_type": "code",
   "execution_count": null,
   "metadata": {},
   "outputs": [],
   "source": [
    "# Load the data\n",
    "data = pd.read_csv('C:\\\\Users\\\\dr zafar iqbal\\\\Downloads\\\\dissertation project\\\\daily_btc_1.csv')"
   ]
  },
  {
   "cell_type": "code",
   "execution_count": null,
   "metadata": {},
   "outputs": [],
   "source": [
    "# Display the first few rows\n",
    "data.head()\n"
   ]
  },
  {
   "cell_type": "code",
   "execution_count": null,
   "metadata": {},
   "outputs": [],
   "source": [
    "# Convert 'Date' to datetime format with specified formats\n",
    "data['Date'] = pd.to_datetime(data['Date'], format='%m/%d/%Y', errors='coerce')\n",
    "\n",
    "# Set 'Date' as the index\n",
    "data.set_index('Date', inplace=True)\n",
    "\n",
    "# Remove commas from 'Close' column and convert to float\n",
    "data['Close'] = data['Close'].str.replace(',', '').astype(float)\n",
    "\n",
    "# Aggregate duplicate dates by mean of 'Close' prices\n",
    "data = data.groupby('Date')['Close'].mean()\n",
    "\n",
    "# Convert Series back to DataFrame\n",
    "data = data.to_frame()\n",
    "\n",
    "# Set frequency to daily\n",
    "data = data.asfreq('D')\n",
    "\n"
   ]
  },
  {
   "cell_type": "code",
   "execution_count": null,
   "metadata": {},
   "outputs": [],
   "source": [
    "# Forward fill to handle any newly introduced missing values after frequency setting\n",
    "data['Close'].fillna(method='ffill', inplace=True)\n",
    "\n",
    "# Decompose the time series\n",
    "result = seasonal_decompose(data['Close'], model='additive')\n",
    "\n",
    "# Set the style of the plot to 'default' for white background\n",
    "plt.style.use('default')\n",
    "\n",
    "# Plot the original data, the trend, the seasonality, and the residuals\n",
    "fig, axes = plt.subplots(4, 1, sharex=True, figsize=(14,10))\n",
    "\n",
    "result.observed.plot(ax=axes[0], legend=False, color='black')\n",
    "axes[0].set_ylabel('Observed')\n",
    "axes[0].set_title('Decomposition of Time Series')\n",
    "\n",
    "result.trend.plot(ax=axes[1], legend=False, color='black')\n",
    "axes[1].set_ylabel('Trend')\n",
    "\n",
    "result.seasonal.plot(ax=axes[2], legend=False, color='black')\n",
    "axes[2].set_ylabel('Seasonal')\n",
    "\n",
    "result.resid.plot(ax=axes[3], legend=False, color='black')\n",
    "axes[3].set_ylabel('Residual')\n",
    "\n",
    "plt.show()\n"
   ]
  },
  {
   "cell_type": "code",
   "execution_count": null,
   "metadata": {},
   "outputs": [],
   "source": [
    "pip install seaborn\n"
   ]
  },
  {
   "cell_type": "code",
   "execution_count": null,
   "metadata": {},
   "outputs": [],
   "source": [
    "import seaborn as sns\n",
    "import matplotlib.pyplot as plt"
   ]
  },
  {
   "cell_type": "code",
   "execution_count": null,
   "metadata": {},
   "outputs": [],
   "source": [
    "# Set the color palette\n",
    "sns.set_palette('bright')\n",
    "\n",
    "# Create a figure and axes\n",
    "fig, ax = plt.subplots(figsize=(12, 8))\n",
    "\n",
    "# Create a boxplot\n",
    "sns.boxplot(data=data, x='Month', y='Close', hue='Year', ax=ax)\n",
    "\n",
    "# Rotate x-axis labels for better visibility\n",
    "plt.xticks(rotation=45)\n",
    "\n",
    "# Set the title\n",
    "ax.set_title('Monthly Close Prices Over Multiple Years')\n",
    "\n",
    "# Show the plot\n",
    "plt.show()\n"
   ]
  },
  {
   "cell_type": "code",
   "execution_count": null,
   "metadata": {},
   "outputs": [],
   "source": [
    "# Create a figure and axes\n",
    "fig, ax = plt.subplots(figsize=(12, 8))\n",
    "\n",
    "# Create a scatterplot with rainbow color\n",
    "sns.scatterplot(data=data, x='Open', y='Close', hue='Year', ax=ax, palette='rainbow')\n",
    "\n",
    "# Set the title\n",
    "ax.set_title('Relationship Between Open and Close Prices')\n",
    "\n",
    "# Show the plot\n",
    "plt.show()\n",
    "\n"
   ]
  },
  {
   "cell_type": "code",
   "execution_count": null,
   "metadata": {},
   "outputs": [],
   "source": [
    "# Create a figure and axes\n",
    "fig, ax = plt.subplots(figsize=(12, 8))\n",
    "\n",
    "# Create a line plot for each year\n",
    "for year in data['Year'].unique():\n",
    "    sns.lineplot(data=data.loc[data['Year'] == year], \n",
    "                 x='Month', \n",
    "                 y='Close', \n",
    "                 marker='o', \n",
    "                 label=year, \n",
    "                 ax=ax)\n",
    "\n",
    "# Rotate x-axis labels for better visibility\n",
    "plt.xticks(rotation=45)\n",
    "\n",
    "# Set the title\n",
    "ax.set_title('Seasonal Plot of Average Monthly Close Prices')\n",
    "\n",
    "# Show the plot\n",
    "plt.show()\n"
   ]
  },
  {
   "cell_type": "code",
   "execution_count": null,
   "metadata": {},
   "outputs": [],
   "source": [
    "data.head()"
   ]
  }
 ],
 "metadata": {
  "kernelspec": {
   "display_name": "Python 3",
   "language": "python",
   "name": "python3"
  },
  "language_info": {
   "codemirror_mode": {
    "name": "ipython",
    "version": 3
   },
   "file_extension": ".py",
   "mimetype": "text/x-python",
   "name": "python",
   "nbconvert_exporter": "python",
   "pygments_lexer": "ipython3",
   "version": "3.11.1"
  },
  "orig_nbformat": 4
 },
 "nbformat": 4,
 "nbformat_minor": 2
}
